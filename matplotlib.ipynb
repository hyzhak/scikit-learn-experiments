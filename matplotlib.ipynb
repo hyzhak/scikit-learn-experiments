{
 "cells": [
  {
   "cell_type": "code",
   "execution_count": 1,
   "metadata": {
    "collapsed": true
   },
   "outputs": [],
   "source": [
    "%matplotlib inline"
   ]
  },
  {
   "cell_type": "code",
   "execution_count": 2,
   "metadata": {},
   "outputs": [
    {
     "data": {
      "image/png": "[encoded data removed]",
      "text/plain": [
       "<matplotlib.figure.Figure at 0x7f31e8ff2320>"
      ]
     },
     "metadata": {},
     "output_type": "display_data"
    }
   ],
   "source": [
    "import matplotlib.pyplot as plt\n",
    "import numpy as np\n",
    "\n",
    "fig = plt.figure(figsize=(4,4))\n",
    "plt.pcolor(np.random.rand(9,9)>.5, cmap = 'Greys', linewidth =.5, color = 'k', vmin = 0, vmax = 1);"
   ]
  },
  {
   "cell_type": "code",
   "execution_count": 3,
   "metadata": {},
   "outputs": [
    {
     "data": {
      "image/png": "[encoded data removed]",
      "text/plain": [
       "<matplotlib.figure.Figure at 0x7f31e692d080>"
      ]
     },
     "metadata": {},
     "output_type": "display_data"
    },
    {
     "data": {
      "image/png": "[encoded data removed]",
      "text/plain": [
       "<matplotlib.figure.Figure at 0x7f31e6965a90>"
      ]
     },
     "metadata": {},
     "output_type": "display_data"
    }
   ],
   "source": [
    "x = np.arange(5)\n",
    "y = np.arange(3)\n",
    "X, Y = np.meshgrid(x, y)\n",
    "X = np.array([[0, 1, 2, 3, 4],\n",
    "              [0, 1, 2, 3, 4],\n",
    "              [0, 1, 2, 3, 4]])\n",
    "\n",
    "Y = np.array([[0, 0, 0, 0, 0],\n",
    "              [1, 1, 1, 1, 1],\n",
    "              [2, 2, 2, 2, 2]])\n",
    "C = np.random.rand(len(x), len(y))\n",
    "plt.figure(figsize=(4,2))\n",
    "plt.pcolor(X, Y, C.T);\n",
    "plt.figure(figsize=(5,3))\n",
    "plt.pcolor(C.T);"
   ]
  },
  {
   "cell_type": "code",
   "execution_count": null,
   "metadata": {
    "collapsed": true
   },
   "outputs": [],
   "source": []
  }
 ],
 "metadata": {
  "kernelspec": {
   "display_name": "Python 3",
   "language": "python",
   "name": "python3"
  },
  "language_info": {
   "codemirror_mode": {
    "name": "ipython",
    "version": 3
   },
   "file_extension": ".py",
   "mimetype": "text/x-python",
   "name": "python",
   "nbconvert_exporter": "python",
   "pygments_lexer": "ipython3",
   "version": "3.6.1"
  }
 },
 "nbformat": 4,
 "nbformat_minor": 2
}
