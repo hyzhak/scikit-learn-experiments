{
 "cells": [
  {
   "cell_type": "markdown",
   "metadata": {},
   "source": [
    "# Cross validation\n",
    "based on [official docs](http://scikit-learn.org/stable/modules/cross_validation.html)\n",
    "\n",
    "\n",
    "we need:\n",
    "- **training set** for training model\n",
    "- **validation set** for hyper parameters\n",
    "- **test set** \n",
    "solution:\n",
    "- k-fold -> split **training set** to k folds, get k-1 for **training** and 1 for **validation**"
   ]
  },
  {
   "cell_type": "code",
   "execution_count": 1,
   "metadata": {
    "collapsed": true
   },
   "outputs": [],
   "source": [
    "import numpy as np\n",
    "from sklearn import datasets, metrics, model_selection, pipeline, preprocessing, svm\n",
    "\n",
    "iris = datasets.load_iris()"
   ]
  },
  {
   "cell_type": "code",
   "execution_count": 2,
   "metadata": {},
   "outputs": [
    {
     "name": "stdout",
     "output_type": "stream",
     "text": [
      "[ 0.96666667  1.          0.96666667  0.96666667  1.        ]\n",
      "Accuracy: 0.98 (+/- 0.03)\n"
     ]
    }
   ],
   "source": [
    "clf = svm.SVC(kernel='linear', C=1)\n",
    "scores = model_selection.cross_val_score(clf, iris.data, iris.target, cv=5)\n",
    "print(scores)\n",
    "print('Accuracy: {:0.2f} (+/- {:0.2f})'.format(scores.mean(), scores.std() * 2))"
   ]
  },
  {
   "cell_type": "markdown",
   "metadata": {},
   "source": [
    "## Pipeline\n",
    "we should have the same preprocessing for training and using"
   ]
  },
  {
   "cell_type": "code",
   "execution_count": 3,
   "metadata": {},
   "outputs": [
    {
     "name": "stdout",
     "output_type": "stream",
     "text": [
      "[ 0.96296296  1.          0.85185185]\n",
      "0.955555555556\n"
     ]
    }
   ],
   "source": [
    "X_train, X_test, y_train, y_test = model_selection.train_test_split(\n",
    "    iris.data, iris.target, test_size=0.4, random_state=0)\n",
    "\n",
    "cv = model_selection.ShuffleSplit(n_splits=3, test_size=0.3, random_state=0)\n",
    "clf = pipeline.make_pipeline(preprocessing.StandardScaler(), svm.SVC(C=1))\n",
    "print(model_selection.cross_val_score(clf, X_train, y_train, cv=cv))\n",
    "predicted = model_selection.cross_val_predict(clf, X_train, y_train, cv=3)\n",
    "\n",
    "print(metrics.accuracy_score(y_train, predicted))\n",
    "\n",
    "# clf = clf.fit(X_train, y_train)\n",
    "# clf.predict(X_test) == y_test"
   ]
  },
  {
   "cell_type": "markdown",
   "metadata": {},
   "source": [
    "# Cross validation iterators"
   ]
  },
  {
   "cell_type": "markdown",
   "metadata": {},
   "source": [
    "## k-fold"
   ]
  },
  {
   "cell_type": "code",
   "execution_count": 4,
   "metadata": {},
   "outputs": [
    {
     "name": "stdout",
     "output_type": "stream",
     "text": [
      "['c' 'd' 'e' 'f'] ['a' 'b']\n",
      "['a' 'b' 'e' 'f'] ['c' 'd']\n",
      "['a' 'b' 'c' 'd'] ['e' 'f']\n"
     ]
    }
   ],
   "source": [
    "X = np.array(['a', 'b', 'c', 'd', 'e', 'f'])\n",
    "kf = model_selection.KFold(n_splits=3)\n",
    "for train, test in kf.split(X):\n",
    "    print('{} {}'.format(X[train], X[test]))"
   ]
  },
  {
   "cell_type": "markdown",
   "metadata": {},
   "source": [
    "## leave one out"
   ]
  },
  {
   "cell_type": "code",
   "execution_count": 5,
   "metadata": {},
   "outputs": [
    {
     "name": "stdout",
     "output_type": "stream",
     "text": [
      "['b' 'c' 'd' 'e' 'f'] ['a']\n",
      "['a' 'c' 'd' 'e' 'f'] ['b']\n",
      "['a' 'b' 'd' 'e' 'f'] ['c']\n",
      "['a' 'b' 'c' 'e' 'f'] ['d']\n",
      "['a' 'b' 'c' 'd' 'f'] ['e']\n",
      "['a' 'b' 'c' 'd' 'e'] ['f']\n"
     ]
    }
   ],
   "source": [
    "loo = model_selection.LeaveOneOut()\n",
    "for train, test in loo.split(X):\n",
    "    print('{} {}'.format(X[train], X[test]))"
   ]
  },
  {
   "cell_type": "markdown",
   "metadata": {},
   "source": [
    "## Imbalanced data"
   ]
  },
  {
   "cell_type": "code",
   "execution_count": 6,
   "metadata": {},
   "outputs": [
    {
     "name": "stdout",
     "output_type": "stream",
     "text": [
      "stratified:\n",
      "[0 0 1 1 1 1 1 1] [0 0 1 1 1]\n",
      "[0 0 0 1 1 1 1 1 1] [0 1 1 1]\n",
      "[0 0 0 1 1 1 1 1 1] [0 1 1 1]\n",
      "\n",
      "k-fold (without stratification):\n",
      "[1 1 1 1 1 1 1 1] [0 0 0 0 1]\n",
      "[0 0 0 0 1 1 1 1 1] [1 1 1 1]\n",
      "[0 0 0 0 1 1 1 1 1] [1 1 1 1]\n"
     ]
    }
   ],
   "source": [
    "X = np.ones(13)\n",
    "y = np.array([0, 0, 0, 0, 1, 1, 1, 1, 1, 1, 1, 1, 1])\n",
    "skf = model_selection.StratifiedKFold(n_splits=3)\n",
    "print('stratified:')\n",
    "for train, test in skf.split(X, y):\n",
    "    print('{} {}'.format(y[train], y[test]))\n",
    "print('\\nk-fold (without stratification):')\n",
    "kf = model_selection.KFold(n_splits=3)\n",
    "for train, test in kf.split(X):\n",
    "    print('{} {}'.format(y[train], y[test]))"
   ]
  },
  {
   "cell_type": "markdown",
   "metadata": {},
   "source": [
    "## Grouped data\n",
    "test one groups agains others and don't mix them together"
   ]
  },
  {
   "cell_type": "code",
   "execution_count": 7,
   "metadata": {},
   "outputs": [
    {
     "name": "stdout",
     "output_type": "stream",
     "text": [
      "[1 1 2 2] [3 3 4 4]\n",
      "[2 2 4 4] [1 1 3 3]\n",
      "[2 2 3 3] [1 1 4 4]\n",
      "[3 3 4 4] [1 1 2 2]\n"
     ]
    }
   ],
   "source": [
    "X = np.arange(8)\n",
    "y = np.arange(8)\n",
    "groups = np.array([1, 1, 2, 2, 3, 3, 4, 4])\n",
    "gss = model_selection.GroupShuffleSplit(n_splits=4, test_size=0.5, random_state=0)\n",
    "for train, test in gss.split(X, y, groups=groups):\n",
    "    print('{} {}'.format(groups[train], groups[test]))"
   ]
  },
  {
   "cell_type": "markdown",
   "metadata": {},
   "source": [
    "# Time series"
   ]
  },
  {
   "cell_type": "code",
   "execution_count": 8,
   "metadata": {},
   "outputs": [
    {
     "name": "stdout",
     "output_type": "stream",
     "text": [
      "[0 1 2 3 4] [5 6 7 8 9]\n",
      "[0 1 2 3 4 5 6 7 8 9] [10 11 12 13 14]\n",
      "[ 0  1  2  3  4  5  6  7  8  9 10 11 12 13 14] [15 16 17 18 19]\n"
     ]
    }
   ],
   "source": [
    "X = np.arange(20)\n",
    "y = np.arange(20)\n",
    "tscv = model_selection.TimeSeriesSplit(n_splits=3)\n",
    "\n",
    "for train, test in tscv.split(X):\n",
    "    print('{} {}'.format(train, test))"
   ]
  }
 ],
 "metadata": {
  "kernelspec": {
   "display_name": "Python 3",
   "language": "python",
   "name": "python3"
  },
  "language_info": {
   "codemirror_mode": {
    "name": "ipython",
    "version": 3
   },
   "file_extension": ".py",
   "mimetype": "text/x-python",
   "name": "python",
   "nbconvert_exporter": "python",
   "pygments_lexer": "ipython3",
   "version": "3.6.1"
  }
 },
 "nbformat": 4,
 "nbformat_minor": 2
}
