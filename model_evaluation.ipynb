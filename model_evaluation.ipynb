{
 "cells": [
  {
   "cell_type": "markdown",
   "metadata": {},
   "source": [
    "# Model Evaluation\n",
    "based on original documentation\n",
    "http://scikit-learn.org/stable/modules/model_evaluation.html"
   ]
  },
  {
   "cell_type": "markdown",
   "metadata": {},
   "source": [
    "## The scoring parameter"
   ]
  },
  {
   "cell_type": "code",
   "execution_count": 25,
   "metadata": {
    "collapsed": true
   },
   "outputs": [],
   "source": [
    "scoring_types = [\n",
    "    'accuracy':,\n",
    "    'average_precision',\n",
    "    'f1',\n",
    "    'f1_micro',\n",
    "    'f1_macro',\n",
    "    'f1_weighted',\n",
    "    'f1_samples',\n",
    "    'neg_log_loss',\n",
    "    'precision',\n",
    "    'recall',   \n",
    "    'roc_auc',\n",
    "]"
   ]
  },
  {
   "cell_type": "code",
   "execution_count": 87,
   "metadata": {},
   "outputs": [
    {
     "name": "stdout",
     "output_type": "stream",
     "text": [
      "[ 0.97058824  0.94117647  0.96875   ]\n",
      "[-0. -0. -0.]\n",
      "[-0.01960784 -0.03921569 -0.02083333]\n",
      "[-0.01960784 -0.03921569 -0.02083333]\n",
      "[-0. -0. -0.]\n",
      "[-0.01960784 -0.03921569 -0.02083333]\n",
      "[-0.01960784 -0.03921569 -0.02083333]\n",
      "[ 0.98039216  0.96078431  0.97916667]\n",
      "\t Error of \"roc_auc\":\n",
      "\t multiclass format is not supported\n",
      "\t Error of \"average_precision\":\n",
      "\t multiclass format is not supported\n",
      "[-0.07475338 -0.16911634 -0.0698804 ]\n",
      "[-0.07475338 -0.16911634 -0.0698804 ]\n",
      "[ 0.94056624  0.8849583   0.93680878]\n",
      "\t Error of \"precision\":\n",
      "\t Target is multiclass but average='binary'. Please choose another average setting.\n",
      "[ 0.98148148  0.96491228  0.98039216]\n",
      "[ 0.98039216  0.96078431  0.97916667]\n",
      "\t Error of \"precision_samples\":\n",
      "\t Sample-based precision, recall, fscore is not meaningful outside multilabel classification. See the accuracy_score instead.\n",
      "[ 0.98148148  0.96491228  0.98039216]\n",
      "\t Error of \"recall\":\n",
      "\t Target is multiclass but average='binary'. Please choose another average setting.\n",
      "[ 0.98039216  0.96078431  0.97916667]\n",
      "[ 0.98039216  0.96078431  0.97916667]\n",
      "\t Error of \"recall_samples\":\n",
      "\t Sample-based precision, recall, fscore is not meaningful outside multilabel classification. See the accuracy_score instead.\n",
      "[ 0.98039216  0.96078431  0.97916667]\n",
      "\t Error of \"f1\":\n",
      "\t Target is multiclass but average='binary'. Please choose another average setting.\n",
      "[ 0.98037518  0.96064815  0.9791463 ]\n",
      "[ 0.98039216  0.96078431  0.97916667]\n",
      "\t Error of \"f1_samples\":\n",
      "\t Sample-based precision, recall, fscore is not meaningful outside multilabel classification. See the accuracy_score instead.\n",
      "[ 0.98037518  0.96064815  0.9791463 ]\n",
      "failed_list: [roc_auc,average_precision,precision,precision_samples,recall,recall_samples,f1,f1_samples]\n"
     ]
    },
    {
     "name": "stderr",
     "output_type": "stream",
     "text": [
      "/opt/conda/lib/python3.6/site-packages/sklearn/metrics/scorer.py:90: DeprecationWarning: Scoring method median_absolute_error was renamed to neg_median_absolute_error in version 0.18 and will be removed in 0.20.\n",
      "  sample_weight=sample_weight)\n",
      "/opt/conda/lib/python3.6/site-packages/sklearn/metrics/scorer.py:90: DeprecationWarning: Scoring method median_absolute_error was renamed to neg_median_absolute_error in version 0.18 and will be removed in 0.20.\n",
      "  sample_weight=sample_weight)\n",
      "/opt/conda/lib/python3.6/site-packages/sklearn/metrics/scorer.py:90: DeprecationWarning: Scoring method median_absolute_error was renamed to neg_median_absolute_error in version 0.18 and will be removed in 0.20.\n",
      "  sample_weight=sample_weight)\n",
      "/opt/conda/lib/python3.6/site-packages/sklearn/metrics/scorer.py:90: DeprecationWarning: Scoring method mean_absolute_error was renamed to neg_mean_absolute_error in version 0.18 and will be removed in 0.20.\n",
      "  sample_weight=sample_weight)\n",
      "/opt/conda/lib/python3.6/site-packages/sklearn/metrics/scorer.py:90: DeprecationWarning: Scoring method mean_absolute_error was renamed to neg_mean_absolute_error in version 0.18 and will be removed in 0.20.\n",
      "  sample_weight=sample_weight)\n",
      "/opt/conda/lib/python3.6/site-packages/sklearn/metrics/scorer.py:90: DeprecationWarning: Scoring method mean_absolute_error was renamed to neg_mean_absolute_error in version 0.18 and will be removed in 0.20.\n",
      "  sample_weight=sample_weight)\n",
      "/opt/conda/lib/python3.6/site-packages/sklearn/metrics/scorer.py:90: DeprecationWarning: Scoring method mean_squared_error was renamed to neg_mean_squared_error in version 0.18 and will be removed in 0.20.\n",
      "  sample_weight=sample_weight)\n",
      "/opt/conda/lib/python3.6/site-packages/sklearn/metrics/scorer.py:90: DeprecationWarning: Scoring method mean_squared_error was renamed to neg_mean_squared_error in version 0.18 and will be removed in 0.20.\n",
      "  sample_weight=sample_weight)\n",
      "/opt/conda/lib/python3.6/site-packages/sklearn/metrics/scorer.py:90: DeprecationWarning: Scoring method mean_squared_error was renamed to neg_mean_squared_error in version 0.18 and will be removed in 0.20.\n",
      "  sample_weight=sample_weight)\n",
      "/opt/conda/lib/python3.6/site-packages/sklearn/metrics/scorer.py:127: DeprecationWarning: Scoring method log_loss was renamed to neg_log_loss in version 0.18 and will be removed in 0.20.\n",
      "  sample_weight=sample_weight)\n",
      "/opt/conda/lib/python3.6/site-packages/sklearn/metrics/scorer.py:127: DeprecationWarning: Scoring method log_loss was renamed to neg_log_loss in version 0.18 and will be removed in 0.20.\n",
      "  sample_weight=sample_weight)\n",
      "/opt/conda/lib/python3.6/site-packages/sklearn/metrics/scorer.py:127: DeprecationWarning: Scoring method log_loss was renamed to neg_log_loss in version 0.18 and will be removed in 0.20.\n",
      "  sample_weight=sample_weight)\n"
     ]
    }
   ],
   "source": [
    "from sklearn import datasets, metrics, model_selection, svm\n",
    "\n",
    "iris = datasets.load_iris()\n",
    "X, y = iris.data, iris.target\n",
    "\n",
    "failed_list = []\n",
    "clf = svm.SVC(probability=True, random_state=0)\n",
    "for scoring_type, scoring_function in metrics.SCORERS.items():\n",
    "    try:\n",
    "        print(model_selection.cross_val_score(clf, X, y, scoring=scoring_type))\n",
    "    except Exception as er:\n",
    "        print('\\t', 'Error of \"{}\":'.format(scoring_type))\n",
    "        print('\\t', er)\n",
    "        failed_list.append(scoring_type)\n",
    "    \n",
    "print('failed_list: [{}]'.format(','.join(failed_list)))"
   ]
  },
  {
   "cell_type": "code",
   "execution_count": null,
   "metadata": {
    "collapsed": true
   },
   "outputs": [],
   "source": []
  }
 ],
 "metadata": {
  "kernelspec": {
   "display_name": "Python 3",
   "language": "python",
   "name": "python3"
  },
  "language_info": {
   "codemirror_mode": {
    "name": "ipython",
    "version": 3
   },
   "file_extension": ".py",
   "mimetype": "text/x-python",
   "name": "python",
   "nbconvert_exporter": "python",
   "pygments_lexer": "ipython3",
   "version": "3.6.1"
  }
 },
 "nbformat": 4,
 "nbformat_minor": 2
}
