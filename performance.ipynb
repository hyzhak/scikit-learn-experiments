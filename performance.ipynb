{
 "cells": [
  {
   "cell_type": "markdown",
   "metadata": {},
   "source": [
    "# Performance\n",
    "based on:\n",
    "* http://scikit-learn.org/stable/modules/computational_performance.html\n",
    "* http://scikit-learn.org/stable/developers/performance.html"
   ]
  },
  {
   "cell_type": "code",
   "execution_count": 1,
   "metadata": {},
   "outputs": [
    {
     "name": "stdout",
     "output_type": "stream",
     "text": [
      "{'libraries': ['mkl_rt', 'pthread'], 'library_dirs': ['/opt/conda/lib'], 'define_macros': [('SCIPY_MKL_H', None), ('HAVE_CBLAS', None)], 'include_dirs': ['/usr/local/include', '/usr/include', '/opt/conda/include']}\n",
      "{'libraries': ['mkl_rt', 'pthread'], 'library_dirs': ['/opt/conda/lib'], 'define_macros': [('SCIPY_MKL_H', None), ('HAVE_CBLAS', None)], 'include_dirs': ['/usr/local/include', '/usr/include', '/opt/conda/include']}\n"
     ]
    }
   ],
   "source": [
    "from numpy.distutils.system_info import get_info\n",
    "print(get_info('blas_opt'))\n",
    "print(get_info('lapack_opt'))"
   ]
  },
  {
   "cell_type": "code",
   "execution_count": null,
   "metadata": {
    "collapsed": true
   },
   "outputs": [],
   "source": []
  }
 ],
 "metadata": {
  "kernelspec": {
   "display_name": "Python 3",
   "language": "python",
   "name": "python3"
  },
  "language_info": {
   "codemirror_mode": {
    "name": "ipython",
    "version": 3
   },
   "file_extension": ".py",
   "mimetype": "text/x-python",
   "name": "python",
   "nbconvert_exporter": "python",
   "pygments_lexer": "ipython3",
   "version": "3.6.1"
  }
 },
 "nbformat": 4,
 "nbformat_minor": 2
}
